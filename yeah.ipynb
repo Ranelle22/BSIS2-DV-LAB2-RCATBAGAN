{
  "nbformat": 4,
  "nbformat_minor": 0,
  "metadata": {
    "colab": {
      "provenance": [],
      "authorship_tag": "ABX9TyM0ZqU0/BdNasG6ON2uu795",
      "include_colab_link": true
    },
    "kernelspec": {
      "name": "python3",
      "display_name": "Python 3"
    },
    "language_info": {
      "name": "python"
    }
  },
  "cells": [
    {
      "cell_type": "markdown",
      "metadata": {
        "id": "view-in-github",
        "colab_type": "text"
      },
      "source": [
        "<a href=\"https://colab.research.google.com/github/Ranelle22/BSIS2-DV-LAB2-RCATBAGAN/blob/main/yeah.ipynb\" target=\"_parent\"><img src=\"https://colab.research.google.com/assets/colab-badge.svg\" alt=\"Open In Colab\"/></a>"
      ]
    },
    {
      "cell_type": "code",
      "execution_count": null,
      "metadata": {
        "colab": {
          "base_uri": "https://localhost:8080/"
        },
        "id": "ElUx67F08EIl",
        "outputId": "0a6ab0f9-cc4c-4e90-f8fc-144da5a496fb"
      },
      "outputs": [
        {
          "output_type": "stream",
          "name": "stdout",
          "text": [
            "Enter the first number\n",
            "26\n",
            "Enter the second number\n",
            "60\n",
            "Sum: 60.0 + 26.0 = 86.0\n",
            "Difference: 60.0 - 26.0 = 34.0\n",
            "Product: 60.0 * 26.0 = 1560.0\n",
            "Quotient: 60.0 / 26.0 = 2.3076923076923075\n",
            "Power: 60.0 ^ 26.0 = 1.705817281795782e+46\n",
            "Division with remainder: 60.0 / 26.0 = 2.3076923076923075\n",
            "Remainder: 60.0 % 26.0 = 8.0\n"
          ]
        }
      ],
      "source": [
        "\n",
        "\n",
        "print('Enter the first number')\n",
        "y = float(input())\n",
        "print('Enter the second number')\n",
        "x = float(input())\n",
        "\n",
        "sumyx = (x) + (y)\n",
        "difyx = (x) - (y)\n",
        "proyx = (x) * (y)\n",
        "quoyx = (x) / (y)\n",
        "powyx = (x) ** (y)\n",
        "divyx = (x) / (y)\n",
        "remyx = (x) % (y)\n",
        "\n",
        "print ('Sum:', x, '+', y, '=', sumyx)\n",
        "print ('Difference:', x, '-', y, '=', difyx)\n",
        "print ('Product:', x, '*', y, '=', proyx)\n",
        "print ('Quotient:', x, '/', y, '=', quoyx)\n",
        "print ('Power:', x, '^', y, '=', powyx)\n",
        "print ('Division with remainder:', x, '/', y, '=', divyx)\n",
        "print ('Remainder:', x, '%', y, '=', remyx)"
      ]
    },
    {
      "cell_type": "code",
      "source": [],
      "metadata": {
        "id": "wu348uw8DMuo"
      },
      "execution_count": null,
      "outputs": []
    }
  ]
}